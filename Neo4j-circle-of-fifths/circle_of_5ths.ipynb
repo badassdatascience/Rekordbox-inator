{
 "cells": [
  {
   "cell_type": "markdown",
   "id": "546ec16e-3ab0-4a05-97b8-bed2944272ac",
   "metadata": {},
   "source": [
    "# Computes the Musical \"Circle of Fifths\" and Deposits it into Neo4j\n",
    "\n",
    "Computes the \"Circle of Fifths\" from Western music theory. Keys and modes are given in DJ notation, where each relationship \"KEY_AND_MODE_PATH\" between keys ensures that the a song played in source node's key will prove harmonically aligned with the next song played in receiving node's key. This information enables DJs to mix songs live.\n",
    "\n",
    "I'm working on using AI to generate better playlists. With this content loaded into Neo4j I can trace acceptable paths through possible songs (Note:  The songs and their attributes are not loaded yet)."
   ]
  },
  {
   "cell_type": "markdown",
   "id": "f2f1f35a-3fcc-4ab4-9adf-3ab112c5f3b8",
   "metadata": {},
   "source": [
    "## Load useful libraries"
   ]
  },
  {
   "cell_type": "code",
   "execution_count": null,
   "id": "b9a61da5-e7c0-4af6-b9d2-3ba4b247d658",
   "metadata": {},
   "outputs": [],
   "source": [
    "import pandas as pd\n",
    "from neo4j import GraphDatabase"
   ]
  },
  {
   "cell_type": "markdown",
   "id": "1688aef9-8b3f-4681-943e-be0df65c6b0d",
   "metadata": {},
   "source": [
    "## User settings"
   ]
  },
  {
   "cell_type": "code",
   "execution_count": null,
   "id": "8f9922d5-fd03-4432-9936-921fc359895f",
   "metadata": {},
   "outputs": [],
   "source": [
    "graph_database_uri = 'neo4j://127.0.0.1:7687'\n",
    "graph_database_username = '*****'\n",
    "graph_database_password = '*****'\n",
    "graph_database_name = '*****'"
   ]
  },
  {
   "cell_type": "markdown",
   "id": "82860952-a72b-42f1-985b-aba6cfa6f1ff",
   "metadata": {},
   "source": [
    "## Define a class to hold the \"circle of fifths\" from western music theory"
   ]
  },
  {
   "cell_type": "code",
   "execution_count": null,
   "id": "cbab0422-3454-4b63-be8a-0333b209abef",
   "metadata": {},
   "outputs": [],
   "source": [
    "class circle_of_fifths():\n",
    "\n",
    "    #\n",
    "    # constructor\n",
    "    #\n",
    "    def __init__(\n",
    "        self,\n",
    "        chromatic_scale = ['C', 'C#/Db', 'D', 'D#/Eb', 'E', 'F', 'F#/Gb', 'G', 'G#/Ab', 'A', 'A#/Bb', 'B'],\n",
    "    ):\n",
    "        \n",
    "        # initialize\n",
    "        self.chromatic_scale = chromatic_scale\n",
    "        self.chromatic_scale_base_zero_indices = list(range(0, len(self.chromatic_scale)))\n",
    "        \n",
    "        # compute circle of fifths\n",
    "        self.compute_circle_of_fifths_from_chromatic_scale()\n",
    "\n",
    "        # shift root notes to match the Camelot EasyMix wheel\n",
    "        self.shift_root_notes_to_match_Camelot()\n",
    "\n",
    "        # calculate wheel\n",
    "        self.create_Camelot_wheel()\n",
    "    \n",
    "    #\n",
    "    # An interval of seven on a chromatic scale equals an interval of a fifth on an octave scale\n",
    "    #\n",
    "    def compute_circle_of_fifths_from_chromatic_scale(self):\n",
    "        self.fifths_list = []\n",
    "        for j in range(0, len(self.chromatic_scale) * 7, 7):\n",
    "            self.fifths_list.append(self.chromatic_scale[j % 12])\n",
    "    \n",
    "    #\n",
    "    # Align with Camelot EasyMix notation\n",
    "    #\n",
    "    def shift_root_notes_to_match_Camelot(self):\n",
    "        self.chromatic_camelot_major = self.fifths_list[-7:]\n",
    "        self.chromatic_camelot_major.extend(self.fifths_list[0:-7])\n",
    "        self.chromatic_camelot_minor = self.fifths_list[-4:]\n",
    "        self.chromatic_camelot_minor.extend(self.fifths_list[0:-4])\n",
    "        \n",
    "    #\n",
    "    # Create virtual representation of the Camelot EasyMix wheel\n",
    "    #\n",
    "    def create_Camelot_wheel(self):\n",
    "\n",
    "        all_keys_as_list = []\n",
    "        key_mode_dict = {}\n",
    "\n",
    "        for mode, mode_switch in zip(['A', 'B'], ['B', 'A']):\n",
    "            for k in self.chromatic_scale_base_zero_indices:\n",
    "    \n",
    "                k_down = (self.chromatic_scale_base_zero_indices[k] - 1) % 12\n",
    "                k_same = (self.chromatic_scale_base_zero_indices[k]) % 12       # this could easily be cut, but I thought coding it up would improve review understanding\n",
    "                k_up = (self.chromatic_scale_base_zero_indices[k] + 1) % 12\n",
    "    \n",
    "                k_down_for_display = str(k_down + 1) + mode\n",
    "                k_same_for_display = str(k_same + 1) + mode\n",
    "                k_same_for_display_with_mode_switch = str(k_same + 1) + mode_switch\n",
    "                k_up_for_display = str(k_up + 1) + mode\n",
    " \n",
    "                key_mode_dict[k_same_for_display] = {\n",
    "                    'same' : k_same_for_display,\n",
    "                    'same_with_mode_switch' : k_same_for_display_with_mode_switch,\n",
    "                    'down' : k_down_for_display,\n",
    "                    'up' : k_up_for_display,\n",
    "                    'key_numeric' : k + 1,\n",
    "                    'mode' : k_same_for_display[-1],\n",
    "                }\n",
    "    \n",
    "                if mode == 'A':\n",
    "                    key_mode_dict[k_same_for_display]['key_pitch_class'] = self.chromatic_camelot_minor[k]\n",
    "                elif mode == 'B':\n",
    "                    key_mode_dict[k_same_for_display]['key_pitch_class'] = self.chromatic_camelot_major[k]\n",
    "            \n",
    "                all_keys_as_list.append(key_mode_dict[k_same_for_display])\n",
    "\n",
    "        self.df = pd.DataFrame(all_keys_as_list)\n",
    "        \n",
    "        \n",
    "    def prepare_for_Neo4j_load(self):\n",
    "        self.cmd_list = []\n",
    "\n",
    "        for i, row in self.df.iterrows():\n",
    "    \n",
    "            self.cmd_list.append((\"\"\"MERGE (m : CAMELOT_KEY_AND_MODE {id : $name_i, name : $name_i}) RETURN m\"\"\", (row['same'], row['same'])))\n",
    "    \n",
    "            self.cmd_list.append(\n",
    "                (\"\"\"\n",
    "                MATCH (i : CAMELOT_KEY_AND_MODE {id : $name_i, name : $name_i}), (j : CAMELOT_KEY_AND_MODE {id : $name_j, name : $name_j})\n",
    "                MERGE (i)-[r:KEY_AND_MODE_PATH {method : 'mode_change'}]->(j) RETURN i, j\"\"\", (row['same'], row['same_with_mode_switch'])))\n",
    "        \n",
    "            self.cmd_list.append((\"\"\"\n",
    "                MATCH (i : CAMELOT_KEY_AND_MODE {id : $name_i, name : $name_i}), (j : CAMELOT_KEY_AND_MODE {id : $name_j, name : $name_j})\n",
    "                MERGE (j)-[r:KEY_AND_MODE_PATH {method : 'mode change'}]->(i) RETURN j, i\"\"\", (row['same'], row['same_with_mode_switch'])))\n",
    "    \n",
    "            self.cmd_list.append((\"\"\"\n",
    "                MATCH (i : CAMELOT_KEY_AND_MODE {id : $name_i, name : $name_i}), (j : CAMELOT_KEY_AND_MODE {id : $name_j, name : $name_j})\n",
    "                MERGE (i)-[r:KEY_AND_MODE_PATH {method : 'down'}]->(j) RETURN i, j\"\"\", (row['same'], row['down'])))\n",
    "    \n",
    "            self.cmd_list.append((\"\"\"\n",
    "                MATCH (i : CAMELOT_KEY_AND_MODE {id : $name_i, name : $name_i}), (j : CAMELOT_KEY_AND_MODE {id : $name_j, name : $name_j})\n",
    "                MERGE (i)-[r:KEY_AND_MODE_PATH {method : 'up'}]->(j) RETURN j, i\"\"\", (row['same'], row['up'])))\n",
    "        \n",
    "            self.cmd_list.append((\"\"\"\n",
    "                MATCH (i : CAMELOT_KEY_AND_MODE {id : $name_i, name : $name_i}), (j : CAMELOT_KEY_AND_MODE {id : $name_j, name : $name_j})\n",
    "                MERGE (i)-[r:KEY_AND_MODE_PATH {method : 'stay'}]->(j) RETURN i, j\"\"\", (row['same'], row['same'])))"
   ]
  },
  {
   "cell_type": "markdown",
   "id": "c85363a3-005e-469d-b05c-25ee2562d8ce",
   "metadata": {},
   "source": [
    "## Instantiate an object of this class"
   ]
  },
  {
   "cell_type": "code",
   "execution_count": null,
   "id": "169d46dc-df18-45e2-987c-e56b6ae4e0f9",
   "metadata": {},
   "outputs": [],
   "source": [
    "cf = circle_of_fifths()\n",
    "cf.prepare_for_Neo4j_load()"
   ]
  },
  {
   "cell_type": "markdown",
   "id": "93f12cac-6a1a-4d88-9d36-7dc7145edac5",
   "metadata": {},
   "source": [
    "## Connect to Neo4j"
   ]
  },
  {
   "cell_type": "code",
   "execution_count": null,
   "id": "3b31b9c4-d258-4086-8e94-403d77a607be",
   "metadata": {},
   "outputs": [],
   "source": [
    "with GraphDatabase.driver(graph_database_uri, auth = (graph_database_username, graph_database_password)) as driver:\n",
    "    driver.verify_connectivity()"
   ]
  },
  {
   "cell_type": "markdown",
   "id": "a7e12dd7-731e-4180-ba8f-576c9940f767",
   "metadata": {},
   "source": [
    "## Define a transaction for circle of fifths' elements"
   ]
  },
  {
   "cell_type": "code",
   "execution_count": null,
   "id": "5294e906-b66a-4f00-8d58-1be37051c972",
   "metadata": {},
   "outputs": [],
   "source": [
    "def circle_of_fifths_tx(tx, cmd):\n",
    "    values_tuple = cmd[1]\n",
    "    name_i = values_tuple[0]\n",
    "    name_j = values_tuple[1]\n",
    "    result = tx.run(cmd[0], name_i = values_tuple[0], name_j = values_tuple[1])"
   ]
  },
  {
   "cell_type": "markdown",
   "id": "933686b9-3f96-4cd9-bbf8-daebc010be97",
   "metadata": {},
   "source": [
    "## Main"
   ]
  },
  {
   "cell_type": "code",
   "execution_count": null,
   "id": "7d8fd7a7-1e8d-442e-a782-e7d11a51ceb8",
   "metadata": {},
   "outputs": [],
   "source": [
    "def main():\n",
    "    with GraphDatabase.driver(graph_database_uri, auth=(graph_database_username, graph_database_password)) as driver:\n",
    "        with driver.session(database = 'neo4j') as session:\n",
    "            for cmd in cf.cmd_list:\n",
    "                session.execute_write(circle_of_fifths_tx, cmd)\n",
    "\n",
    "if __name__ == '__main__':\n",
    "    main()"
   ]
  }
 ],
 "metadata": {
  "kernelspec": {
   "display_name": "Python 3 (ipykernel)",
   "language": "python",
   "name": "python3"
  },
  "language_info": {
   "codemirror_mode": {
    "name": "ipython",
    "version": 3
   },
   "file_extension": ".py",
   "mimetype": "text/x-python",
   "name": "python",
   "nbconvert_exporter": "python",
   "pygments_lexer": "ipython3",
   "version": "3.10.9"
  }
 },
 "nbformat": 4,
 "nbformat_minor": 5
}
